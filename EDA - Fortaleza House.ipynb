{
 "cells": [
  {
   "cell_type": "markdown",
   "id": "16f3bb33",
   "metadata": {},
   "source": [
    "# House Data Analysis - Fortaleza/CE Brazil"
   ]
  },
  {
   "cell_type": "markdown",
   "id": "0d969dc2",
   "metadata": {},
   "source": [
    "## 1. Importing packages"
   ]
  },
  {
   "cell_type": "code",
   "execution_count": 1,
   "id": "c2490ef6",
   "metadata": {},
   "outputs": [],
   "source": [
    "import requests\n",
    "import pandas as pd\n",
    "from pandas_profiling import ProfileReport\n",
    "import time\n",
    "import random\n",
    "import numpy as np\n",
    "import seaborn as sns\n",
    "import matplotlib.pyplot as plt\n",
    "from datetime import datetime\n",
    "import pycep_correios\n",
    "from geopy.geocoders import Nominatim\n",
    "from geopy.extra.rate_limiter import RateLimiter\n",
    "from scipy import stats\n",
    "import warnings\n",
    "import math\n",
    "warnings.filterwarnings('ignore')"
   ]
  },
  {
   "cell_type": "markdown",
   "id": "5a04812b-6c82-4df0-b692-a97cf41ce071",
   "metadata": {},
   "source": [
    "## 2. Loading the data from CSV File\n",
    "\n",
    "### 2.1 Loading the data using pandas and creating a DataFrame"
   ]
  },
  {
   "cell_type": "code",
   "execution_count": 2,
   "id": "b8a05b2d",
   "metadata": {},
   "outputs": [],
   "source": [
    "df_Properties = pd.read_csv('./Resources/olx_Fortaleza_220830.csv')"
   ]
  },
  {
   "cell_type": "markdown",
   "id": "ed4bd983-86c7-4342-9798-a8c30762c00f",
   "metadata": {},
   "source": [
    "\n",
    "### 2.2 Looking how our dataset looks like \n",
    " "
   ]
  },
  {
   "cell_type": "code",
   "execution_count": 3,
   "id": "bf2cfef1-7d3b-451e-88d2-f1d69dde42b5",
   "metadata": {},
   "outputs": [
    {
     "data": {
      "text/html": [
       "<div>\n",
       "<style scoped>\n",
       "    .dataframe tbody tr th:only-of-type {\n",
       "        vertical-align: middle;\n",
       "    }\n",
       "\n",
       "    .dataframe tbody tr th {\n",
       "        vertical-align: top;\n",
       "    }\n",
       "\n",
       "    .dataframe thead th {\n",
       "        text-align: right;\n",
       "    }\n",
       "</style>\n",
       "<table border=\"1\" class=\"dataframe\">\n",
       "  <thead>\n",
       "    <tr style=\"text-align: right;\">\n",
       "      <th></th>\n",
       "      <th>Category</th>\n",
       "      <th>Type</th>\n",
       "      <th>Cond_Price</th>\n",
       "      <th>IPTU_Price</th>\n",
       "      <th>Area</th>\n",
       "      <th>Bedrooms</th>\n",
       "      <th>Bathrooms</th>\n",
       "      <th>Garage</th>\n",
       "      <th>Property_Detail</th>\n",
       "      <th>Cond_Detail</th>\n",
       "      <th>Price</th>\n",
       "      <th>Zipcode</th>\n",
       "      <th>City</th>\n",
       "      <th>Neighboor</th>\n",
       "      <th>Address</th>\n",
       "      <th>Description</th>\n",
       "    </tr>\n",
       "  </thead>\n",
       "  <tbody>\n",
       "    <tr>\n",
       "      <th>0</th>\n",
       "      <td>Apartamentos</td>\n",
       "      <td>Venda - apartamento padrão</td>\n",
       "      <td>R$ 790</td>\n",
       "      <td>R$ 1.200</td>\n",
       "      <td>110m²</td>\n",
       "      <td>3</td>\n",
       "      <td>4</td>\n",
       "      <td>2</td>\n",
       "      <td>Mobiliado, Piscina, Ar condicionado, Varanda, ...</td>\n",
       "      <td>Salão de festas, Condomínio fechado, Permitido...</td>\n",
       "      <td>R$ 690.000</td>\n",
       "      <td>60110370</td>\n",
       "      <td>Fortaleza</td>\n",
       "      <td>Meireles</td>\n",
       "      <td>Rua Antônio Augusto - até 909/910</td>\n",
       "      <td>Código do anúncio: LC0013\\n\\nConheça o Marbell...</td>\n",
       "    </tr>\n",
       "    <tr>\n",
       "      <th>1</th>\n",
       "      <td>Apartamentos</td>\n",
       "      <td>Venda - apartamento padrão</td>\n",
       "      <td>R$ 0</td>\n",
       "      <td>R$ 0</td>\n",
       "      <td>54m²</td>\n",
       "      <td>2</td>\n",
       "      <td>2</td>\n",
       "      <td>2</td>\n",
       "      <td>Churrasqueira, Piscina, Ar condicionado</td>\n",
       "      <td>Piscina, Elevador</td>\n",
       "      <td>R$ 499.000</td>\n",
       "      <td>60812260</td>\n",
       "      <td>Fortaleza</td>\n",
       "      <td>Edson Queiroz</td>\n",
       "      <td>Travessa Contaneide</td>\n",
       "      <td>Código do anúncio: AP0389\\n\\nEmpreendimento es...</td>\n",
       "    </tr>\n",
       "    <tr>\n",
       "      <th>2</th>\n",
       "      <td>Apartamentos</td>\n",
       "      <td>Venda - apartamento padrão</td>\n",
       "      <td>R$ 450</td>\n",
       "      <td>R$ 0</td>\n",
       "      <td>82m²</td>\n",
       "      <td>3</td>\n",
       "      <td>3</td>\n",
       "      <td>2</td>\n",
       "      <td>Churrasqueira, Área de serviço, Piscina</td>\n",
       "      <td>Piscina, Elevador</td>\n",
       "      <td>R$ 650.000</td>\n",
       "      <td>60810220</td>\n",
       "      <td>Fortaleza</td>\n",
       "      <td>Engenheiro Luciano Cavalcante</td>\n",
       "      <td>Rua Gontran Giffoni</td>\n",
       "      <td>Código do anúncio: AP0521\\n\\nExcelente apartam...</td>\n",
       "    </tr>\n",
       "    <tr>\n",
       "      <th>3</th>\n",
       "      <td>Casas</td>\n",
       "      <td>Venda - casa em rua pública</td>\n",
       "      <td>R$ 0</td>\n",
       "      <td>R$ 0</td>\n",
       "      <td>145m²</td>\n",
       "      <td>3</td>\n",
       "      <td>2</td>\n",
       "      <td>0</td>\n",
       "      <td>NaN</td>\n",
       "      <td>Permitido animais</td>\n",
       "      <td>R$ 275.000</td>\n",
       "      <td>60050040</td>\n",
       "      <td>Fortaleza</td>\n",
       "      <td>Centro</td>\n",
       "      <td>Rua Solon Pinheiro - até 589/590</td>\n",
       "      <td>Código do anúncio: fc35f6\\n\\nCasa, excelente p...</td>\n",
       "    </tr>\n",
       "    <tr>\n",
       "      <th>4</th>\n",
       "      <td>Apartamentos</td>\n",
       "      <td>Venda - apartamento padrão</td>\n",
       "      <td>R$ 322</td>\n",
       "      <td>R$ 0</td>\n",
       "      <td>58m²</td>\n",
       "      <td>2</td>\n",
       "      <td>2</td>\n",
       "      <td>1</td>\n",
       "      <td>Churrasqueira, Piscina</td>\n",
       "      <td>Piscina</td>\n",
       "      <td>R$ 450.000</td>\n",
       "      <td>60824030</td>\n",
       "      <td>Fortaleza</td>\n",
       "      <td>Parque Iracema</td>\n",
       "      <td>Rua Mauro Freire</td>\n",
       "      <td>Código do anúncio: DAVila_1-2318156\\n\\nCondomí...</td>\n",
       "    </tr>\n",
       "  </tbody>\n",
       "</table>\n",
       "</div>"
      ],
      "text/plain": [
       "       Category                         Type Cond_Price IPTU_Price   Area  \\\n",
       "0  Apartamentos   Venda - apartamento padrão     R$ 790   R$ 1.200  110m²   \n",
       "1  Apartamentos   Venda - apartamento padrão       R$ 0       R$ 0   54m²   \n",
       "2  Apartamentos   Venda - apartamento padrão     R$ 450       R$ 0   82m²   \n",
       "3         Casas  Venda - casa em rua pública       R$ 0       R$ 0  145m²   \n",
       "4  Apartamentos   Venda - apartamento padrão     R$ 322       R$ 0   58m²   \n",
       "\n",
       "  Bedrooms Bathrooms Garage  \\\n",
       "0        3         4      2   \n",
       "1        2         2      2   \n",
       "2        3         3      2   \n",
       "3        3         2      0   \n",
       "4        2         2      1   \n",
       "\n",
       "                                     Property_Detail  \\\n",
       "0  Mobiliado, Piscina, Ar condicionado, Varanda, ...   \n",
       "1            Churrasqueira, Piscina, Ar condicionado   \n",
       "2            Churrasqueira, Área de serviço, Piscina   \n",
       "3                                                NaN   \n",
       "4                             Churrasqueira, Piscina   \n",
       "\n",
       "                                         Cond_Detail       Price   Zipcode  \\\n",
       "0  Salão de festas, Condomínio fechado, Permitido...  R$ 690.000  60110370   \n",
       "1                                  Piscina, Elevador  R$ 499.000  60812260   \n",
       "2                                  Piscina, Elevador  R$ 650.000  60810220   \n",
       "3                                  Permitido animais  R$ 275.000  60050040   \n",
       "4                                            Piscina  R$ 450.000  60824030   \n",
       "\n",
       "        City                      Neighboor  \\\n",
       "0  Fortaleza                       Meireles   \n",
       "1  Fortaleza                  Edson Queiroz   \n",
       "2  Fortaleza  Engenheiro Luciano Cavalcante   \n",
       "3  Fortaleza                         Centro   \n",
       "4  Fortaleza                 Parque Iracema   \n",
       "\n",
       "                             Address  \\\n",
       "0  Rua Antônio Augusto - até 909/910   \n",
       "1                Travessa Contaneide   \n",
       "2                Rua Gontran Giffoni   \n",
       "3   Rua Solon Pinheiro - até 589/590   \n",
       "4                   Rua Mauro Freire   \n",
       "\n",
       "                                         Description  \n",
       "0  Código do anúncio: LC0013\\n\\nConheça o Marbell...  \n",
       "1  Código do anúncio: AP0389\\n\\nEmpreendimento es...  \n",
       "2  Código do anúncio: AP0521\\n\\nExcelente apartam...  \n",
       "3  Código do anúncio: fc35f6\\n\\nCasa, excelente p...  \n",
       "4  Código do anúncio: DAVila_1-2318156\\n\\nCondomí...  "
      ]
     },
     "execution_count": 3,
     "metadata": {},
     "output_type": "execute_result"
    }
   ],
   "source": [
    "df_Properties.head()"
   ]
  },
  {
   "cell_type": "code",
   "execution_count": 4,
   "id": "7613238d-7a8f-4d54-b4c5-13aeb5210823",
   "metadata": {},
   "outputs": [
    {
     "name": "stdout",
     "output_type": "stream",
     "text": [
      "<class 'pandas.core.frame.DataFrame'>\n",
      "RangeIndex: 4983 entries, 0 to 4982\n",
      "Data columns (total 16 columns):\n",
      " #   Column           Non-Null Count  Dtype \n",
      "---  ------           --------------  ----- \n",
      " 0   Category         4983 non-null   object\n",
      " 1   Type             4983 non-null   object\n",
      " 2   Cond_Price       4830 non-null   object\n",
      " 3   IPTU_Price       4735 non-null   object\n",
      " 4   Area             4904 non-null   object\n",
      " 5   Bedrooms         4983 non-null   object\n",
      " 6   Bathrooms        4970 non-null   object\n",
      " 7   Garage           4800 non-null   object\n",
      " 8   Property_Detail  3665 non-null   object\n",
      " 9   Cond_Detail      3546 non-null   object\n",
      " 10  Price            4967 non-null   object\n",
      " 11  Zipcode          4983 non-null   int64 \n",
      " 12  City             4983 non-null   object\n",
      " 13  Neighboor        4983 non-null   object\n",
      " 14  Address          4931 non-null   object\n",
      " 15  Description      4983 non-null   object\n",
      "dtypes: int64(1), object(15)\n",
      "memory usage: 623.0+ KB\n"
     ]
    }
   ],
   "source": [
    "df_Properties.info()"
   ]
  },
  {
   "cell_type": "markdown",
   "id": "60d30b84-6ed0-43c6-af22-5271b4513369",
   "metadata": {},
   "source": [
    "## 3. Exploratory Data Analysis\n",
    "\n",
    "### 3.1 Remove Duplicated Rows"
   ]
  },
  {
   "cell_type": "code",
   "execution_count": 6,
   "id": "145207df",
   "metadata": {},
   "outputs": [
    {
     "name": "stdout",
     "output_type": "stream",
     "text": [
      "Duplicated Lines Removed: 35\n"
     ]
    }
   ],
   "source": [
    "df_Properties2 = df_Properties.drop_duplicates()\n",
    "print(\"Duplicated Lines Removed: \"+ str(df_Properties.shape[0] - df_Properties2.shape[0]))"
   ]
  },
  {
   "cell_type": "markdown",
   "id": "66820f3c-eb3a-4d6a-95ff-a2914924cf67",
   "metadata": {},
   "source": [
    "### 3.2 Check for missing values"
   ]
  },
  {
   "cell_type": "code",
   "execution_count": 7,
   "id": "cbd6699e",
   "metadata": {},
   "outputs": [
    {
     "data": {
      "text/plain": [
       "<AxesSubplot:>"
      ]
     },
     "execution_count": 7,
     "metadata": {},
     "output_type": "execute_result"
    },
    {
     "data": {
      "image/png": "[encoded data removed]",
      "text/plain": [
       "<Figure size 432x288 with 1 Axes>"
      ]
     },
     "metadata": {
      "needs_background": "light"
     },
     "output_type": "display_data"
    }
   ],
   "source": [
    "#Let's analyze the distribution of missing values\n",
    "sns.heatmap(df_Properties2.isnull(),cbar=False,cmap='viridis')"
   ]
  },
  {
   "cell_type": "markdown",
   "id": "249764f9-39cb-4920-83ce-9aaa6ea8c3a4",
   "metadata": {},
   "source": [
    "### 3.3 Dealing with missing values"
   ]
  },
  {
   "cell_type": "code",
   "execution_count": 8,
   "id": "6c7df5f3",
   "metadata": {},
   "outputs": [
    {
     "data": {
      "text/plain": [
       "<AxesSubplot:>"
      ]
     },
     "execution_count": 8,
     "metadata": {},
     "output_type": "execute_result"
    },
    {
     "data": {
      "image/png": "[encoded data removed]",
      "text/plain": [
       "<Figure size 432x288 with 1 Axes>"
      ]
     },
     "metadata": {
      "needs_background": "light"
     },
     "output_type": "display_data"
    }
   ],
   "source": [
    "#For a good analysis of the houses I believe some very important information is the Price and the Area\n",
    "#So let's remove the lines with null information in price and area\n",
    "df_Properties2 = df_Properties2[~df_Properties2['Price'].isnull()]\n",
    "df_Properties2 = df_Properties2[~df_Properties2['Area'].isnull()]\n",
    "sns.heatmap(df_Properties2.isnull(),cbar=False,cmap='viridis')"
   ]
  },
  {
   "cell_type": "code",
   "execution_count": 10,
   "id": "e5347f07-8072-4113-a1b4-7ce7e72f6a20",
   "metadata": {},
   "outputs": [
    {
     "data": {
      "text/plain": [
       "R$ 0        3787\n",
       "R$ 1          80\n",
       "R$ 1.200      27\n",
       "R$ 800        26\n",
       "R$ 600        21\n",
       "            ... \n",
       "R$ 1.498       1\n",
       "R$ 652         1\n",
       "R$ 67          1\n",
       "R$ 1.130       1\n",
       "R$ 716         1\n",
       "Name: IPTU_Price, Length: 389, dtype: int64"
      ]
     },
     "execution_count": 10,
     "metadata": {},
     "output_type": "execute_result"
    }
   ],
   "source": [
    "#Let's analyze the columns IPTU price that is relative to the value of tax over property that need be paid every year to the goverment\n",
    "df_Properties2['IPTU_Price'].value_counts()"
   ]
  },
  {
   "cell_type": "code",
   "execution_count": 11,
   "id": "d57d2f32-aacb-45ba-bffd-41835d091937",
   "metadata": {},
   "outputs": [
    {
     "data": {
      "text/plain": [
       "R$ 0          1853\n",
       "R$ 700          96\n",
       "R$ 1.100        84\n",
       "R$ 600          83\n",
       "R$ 500          79\n",
       "              ... \n",
       "R$ 2.104         1\n",
       "R$ 1.420         1\n",
       "R$ 2.161         1\n",
       "R$ 996           1\n",
       "R$ 110.000       1\n",
       "Name: Cond_Price, Length: 584, dtype: int64"
      ]
     },
     "execution_count": 11,
     "metadata": {},
     "output_type": "execute_result"
    }
   ],
   "source": [
    "#Let's analyze the columns Cond_Price that is relative to the value of monthly payment for the use of the amendments\n",
    "#In the properties that are located inside home condominium\n",
    "df_Properties2['Cond_Price'].value_counts()"
   ]
  },
  {
   "cell_type": "code",
   "execution_count": 15,
   "id": "d5130d17-da93-41d5-bdf5-7e9350228d31",
   "metadata": {},
   "outputs": [
    {
     "data": {
      "text/plain": [
       "Type\n",
       "Venda - apartamento cobertura          14\n",
       "Venda - apartamento padrão            960\n",
       "Venda - casa em condominio fechado     59\n",
       "Venda - casa em rua pública           805\n",
       "Venda - casa em vila                    2\n",
       "Venda - loft/studio                    13\n",
       "Name: Price, dtype: int64"
      ]
     },
     "execution_count": 15,
     "metadata": {},
     "output_type": "execute_result"
    }
   ],
   "source": [
    "#We saw that IPTU_Price and Cond_Price has a lot of zero values, for the IPTU column it is really strange, because every property must pay it\n",
    "#But for Cond_Price, there is some properties that are not located inside a condominium and do not need pay it\n",
    "#So let's check how these zero values are distributed\n",
    "df_Properties2[df_Properties2['Cond_Price'] == 'R$ 0'].groupby('Type')['Price'].count()"
   ]
  },
  {
   "cell_type": "code",
   "execution_count": 16,
   "id": "ae64b156-bfbd-4fcc-b31c-c297535c4141",
   "metadata": {},
   "outputs": [],
   "source": [
    "#After evaluation only 'Type' values 'Venda - casa em rua pública' and 'Venda - casa em vila' could not have the Cond_Price, but we saw too many others also with R$ 0\n",
    "#So in this case it is better drop Cond_Price and also IPTU_Price for our analysis\n",
    "#Too many zero values, it is better we drop this column\n",
    "df_Properties2.drop(['Cond_Price'\n",
    "                     ,'IPTU_Price'\n",
    "                     ],axis=1, inplace=True)"
   ]
  },
  {
   "cell_type": "code",
   "execution_count": 17,
   "id": "ecd429cf-bc92-44cf-a2fb-d65e866a13ee",
   "metadata": {},
   "outputs": [
    {
     "name": "stdout",
     "output_type": "stream",
     "text": [
      "<class 'pandas.core.frame.DataFrame'>\n",
      "Int64Index: 4862 entries, 0 to 4982\n",
      "Data columns (total 14 columns):\n",
      " #   Column           Non-Null Count  Dtype \n",
      "---  ------           --------------  ----- \n",
      " 0   Category         4862 non-null   object\n",
      " 1   Type             4862 non-null   object\n",
      " 2   Area             4862 non-null   object\n",
      " 3   Bedrooms         4862 non-null   object\n",
      " 4   Bathrooms        4853 non-null   object\n",
      " 5   Garage           4701 non-null   object\n",
      " 6   Property_Detail  3607 non-null   object\n",
      " 7   Cond_Detail      3502 non-null   object\n",
      " 8   Price            4862 non-null   object\n",
      " 9   Zipcode          4862 non-null   int64 \n",
      " 10  City             4862 non-null   object\n",
      " 11  Neighboor        4862 non-null   object\n",
      " 12  Address          4819 non-null   object\n",
      " 13  Description      4862 non-null   object\n",
      "dtypes: int64(1), object(13)\n",
      "memory usage: 569.8+ KB\n"
     ]
    }
   ],
   "source": [
    "df_Properties2.info()"
   ]
  },
  {
   "cell_type": "code",
   "execution_count": 19,
   "id": "12184471-96c4-4d80-86b4-20afd59e3d69",
   "metadata": {},
   "outputs": [
    {
     "data": {
      "text/plain": [
       "Category      Type                              \n",
       "Apartamentos  Venda - apartamento cobertura           52\n",
       "              Venda - apartamento duplex/triplex       2\n",
       "              Venda - apartamento kitchenette          4\n",
       "              Venda - apartamento padrão            3550\n",
       "              Venda - loft/studio                     39\n",
       "Casas         Venda - casa em condominio fechado     299\n",
       "              Venda - casa em rua pública            912\n",
       "              Venda - casa em vila                     4\n",
       "Name: Price, dtype: int64"
      ]
     },
     "execution_count": 19,
     "metadata": {},
     "output_type": "execute_result"
    }
   ],
   "source": [
    "#Evaluating the columns Category and Type, looks like Type is a subcategory of each Category\n",
    "df_Properties2.groupby(['Category','Type'])['Price'].count()"
   ]
  },
  {
   "cell_type": "code",
   "execution_count": null,
   "id": "67d38b9c-9784-4fc7-8b4d-185d292ffb9a",
   "metadata": {},
   "outputs": [],
   "source": [
    "#So we can see the Type values in the Category 'Apartamentos' are different from the Type values in the category 'Casas' so for our analysis only the Type column is enough"
   ]
  },
  {
   "cell_type": "code",
   "execution_count": null,
   "id": "5ccfa51a-018c-42ac-b639-2d133ec7c53a",
   "metadata": {},
   "outputs": [],
   "source": []
  },
  {
   "cell_type": "code",
   "execution_count": null,
   "id": "47a3cd4f-4330-4cdb-a9e9-2a2d76f9e14b",
   "metadata": {},
   "outputs": [],
   "source": []
  },
  {
   "cell_type": "code",
   "execution_count": null,
   "id": "69ce4968-7325-4c43-8613-48cadbf0c0ef",
   "metadata": {},
   "outputs": [],
   "source": []
  },
  {
   "cell_type": "code",
   "execution_count": null,
   "id": "41d07efe-8ab0-465b-8567-d36a79b5a96b",
   "metadata": {},
   "outputs": [],
   "source": []
  },
  {
   "cell_type": "code",
   "execution_count": 11,
   "id": "40c47332",
   "metadata": {},
   "outputs": [],
   "source": [
    "#Separating the number from the currency symbol, so later we can transform to a numeric column\n",
    "df_Properties2[['Price_Currency','Price_Value']] = df_Properties2[\"Price\"].str.split(expand = True)\n",
    "df_Properties2[['Cond_Currency','Cond_Value']] = df_Properties2[\"Cond_Price\"].str.split(expand = True)\n",
    "df_Properties2[['IPTU_Currency','IPTU_Value']] = df_Properties2[\"IPTU_Price\"].str.split(expand = True)"
   ]
  },
  {
   "cell_type": "code",
   "execution_count": 12,
   "id": "33a53d32",
   "metadata": {},
   "outputs": [
    {
     "data": {
      "text/html": [
       "<div>\n",
       "<style scoped>\n",
       "    .dataframe tbody tr th:only-of-type {\n",
       "        vertical-align: middle;\n",
       "    }\n",
       "\n",
       "    .dataframe tbody tr th {\n",
       "        vertical-align: top;\n",
       "    }\n",
       "\n",
       "    .dataframe thead th {\n",
       "        text-align: right;\n",
       "    }\n",
       "</style>\n",
       "<table border=\"1\" class=\"dataframe\">\n",
       "  <thead>\n",
       "    <tr style=\"text-align: right;\">\n",
       "      <th></th>\n",
       "      <th>Price_Currency</th>\n",
       "      <th>Price_Value</th>\n",
       "      <th>Cond_Currency</th>\n",
       "      <th>Cond_Value</th>\n",
       "      <th>IPTU_Currency</th>\n",
       "      <th>IPTU_Value</th>\n",
       "    </tr>\n",
       "  </thead>\n",
       "  <tbody>\n",
       "    <tr>\n",
       "      <th>0</th>\n",
       "      <td>R$</td>\n",
       "      <td>569.000</td>\n",
       "      <td>R$</td>\n",
       "      <td>0</td>\n",
       "      <td>R$</td>\n",
       "      <td>0</td>\n",
       "    </tr>\n",
       "    <tr>\n",
       "      <th>1</th>\n",
       "      <td>R$</td>\n",
       "      <td>1.350.000</td>\n",
       "      <td>R$</td>\n",
       "      <td>449</td>\n",
       "      <td>NaN</td>\n",
       "      <td>NaN</td>\n",
       "    </tr>\n",
       "    <tr>\n",
       "      <th>2</th>\n",
       "      <td>R$</td>\n",
       "      <td>995.000</td>\n",
       "      <td>R$</td>\n",
       "      <td>850</td>\n",
       "      <td>R$</td>\n",
       "      <td>0</td>\n",
       "    </tr>\n",
       "    <tr>\n",
       "      <th>3</th>\n",
       "      <td>R$</td>\n",
       "      <td>4.000.000</td>\n",
       "      <td>R$</td>\n",
       "      <td>1.150</td>\n",
       "      <td>R$</td>\n",
       "      <td>0</td>\n",
       "    </tr>\n",
       "    <tr>\n",
       "      <th>4</th>\n",
       "      <td>R$</td>\n",
       "      <td>35.000</td>\n",
       "      <td>R$</td>\n",
       "      <td>0</td>\n",
       "      <td>R$</td>\n",
       "      <td>0</td>\n",
       "    </tr>\n",
       "  </tbody>\n",
       "</table>\n",
       "</div>"
      ],
      "text/plain": [
       "  Price_Currency Price_Value Cond_Currency Cond_Value IPTU_Currency IPTU_Value\n",
       "0             R$     569.000            R$          0            R$          0\n",
       "1             R$   1.350.000            R$        449           NaN        NaN\n",
       "2             R$     995.000            R$        850            R$          0\n",
       "3             R$   4.000.000            R$      1.150            R$          0\n",
       "4             R$      35.000            R$          0            R$          0"
      ]
     },
     "execution_count": 12,
     "metadata": {},
     "output_type": "execute_result"
    }
   ],
   "source": [
    "df_Properties2[['Price_Currency','Price_Value','Cond_Currency','Cond_Value','IPTU_Currency','IPTU_Value']].head()"
   ]
  },
  {
   "cell_type": "code",
   "execution_count": 13,
   "id": "13e01857",
   "metadata": {},
   "outputs": [],
   "source": [
    "#Transforming the value columns into numeric columns\n",
    "df_Properties2['Price_Value'] = pd.to_numeric(df_Properties2[\"Price_Value\"].str.replace('.',''))\n",
    "df_Properties2['Cond_Value'] = pd.to_numeric(df_Properties2[\"Cond_Value\"].str.replace('.',''))\n",
    "df_Properties2['IPTU_Value'] = pd.to_numeric(df_Properties2[\"IPTU_Value\"].str.replace('.',''))"
   ]
  },
  {
   "cell_type": "code",
   "execution_count": 14,
   "id": "dc41a288-ef75-4832-8138-0186c453a5cd",
   "metadata": {},
   "outputs": [
    {
     "name": "stdout",
     "output_type": "stream",
     "text": [
      "<class 'pandas.core.frame.DataFrame'>\n",
      "Int64Index: 9908 entries, 0 to 9976\n",
      "Data columns (total 22 columns):\n",
      " #   Column           Non-Null Count  Dtype  \n",
      "---  ------           --------------  -----  \n",
      " 0   Category         9908 non-null   object \n",
      " 1   Type             9908 non-null   object \n",
      " 2   Cond_Price       9490 non-null   object \n",
      " 3   IPTU_Price       9235 non-null   object \n",
      " 4   Area             9731 non-null   object \n",
      " 5   Bedrooms         9908 non-null   object \n",
      " 6   Bathrooms        9886 non-null   object \n",
      " 7   Garage           9526 non-null   object \n",
      " 8   Property_Detail  7190 non-null   object \n",
      " 9   Cond_Detail      6838 non-null   object \n",
      " 10  Price            9879 non-null   object \n",
      " 11  Zipcode          9908 non-null   int64  \n",
      " 12  City             9908 non-null   object \n",
      " 13  Neighboor        6482 non-null   object \n",
      " 14  Address          6355 non-null   object \n",
      " 15  Description      9908 non-null   object \n",
      " 16  Price_Currency   9879 non-null   object \n",
      " 17  Price_Value      9879 non-null   float64\n",
      " 18  Cond_Currency    9490 non-null   object \n",
      " 19  Cond_Value       9490 non-null   float64\n",
      " 20  IPTU_Currency    9235 non-null   object \n",
      " 21  IPTU_Value       9235 non-null   float64\n",
      "dtypes: float64(3), int64(1), object(18)\n",
      "memory usage: 1.7+ MB\n"
     ]
    }
   ],
   "source": [
    "df_Properties2.info()"
   ]
  },
  {
   "cell_type": "code",
   "execution_count": 15,
   "id": "167e77c7",
   "metadata": {},
   "outputs": [],
   "source": [
    "#Create new numeric column with the value of the area is square meters\n",
    "df_Properties2[\"Area_value\"] = pd.to_numeric(df_Properties2[\"Area\"].str.replace('m²',''))"
   ]
  },
  {
   "cell_type": "code",
   "execution_count": 16,
   "id": "cd9909bd",
   "metadata": {},
   "outputs": [
    {
     "data": {
      "text/html": [
       "<div>\n",
       "<style scoped>\n",
       "    .dataframe tbody tr th:only-of-type {\n",
       "        vertical-align: middle;\n",
       "    }\n",
       "\n",
       "    .dataframe tbody tr th {\n",
       "        vertical-align: top;\n",
       "    }\n",
       "\n",
       "    .dataframe thead th {\n",
       "        text-align: right;\n",
       "    }\n",
       "</style>\n",
       "<table border=\"1\" class=\"dataframe\">\n",
       "  <thead>\n",
       "    <tr style=\"text-align: right;\">\n",
       "      <th></th>\n",
       "      <th>Category</th>\n",
       "      <th>Type</th>\n",
       "      <th>Cond_Price</th>\n",
       "      <th>IPTU_Price</th>\n",
       "      <th>Area</th>\n",
       "      <th>Bedrooms</th>\n",
       "      <th>Bathrooms</th>\n",
       "      <th>Garage</th>\n",
       "      <th>Property_Detail</th>\n",
       "      <th>Cond_Detail</th>\n",
       "      <th>...</th>\n",
       "      <th>Neighboor</th>\n",
       "      <th>Address</th>\n",
       "      <th>Description</th>\n",
       "      <th>Price_Currency</th>\n",
       "      <th>Price_Value</th>\n",
       "      <th>Cond_Currency</th>\n",
       "      <th>Cond_Value</th>\n",
       "      <th>IPTU_Currency</th>\n",
       "      <th>IPTU_Value</th>\n",
       "      <th>Area_value</th>\n",
       "    </tr>\n",
       "  </thead>\n",
       "  <tbody>\n",
       "    <tr>\n",
       "      <th>0</th>\n",
       "      <td>Casas</td>\n",
       "      <td>Venda - casa em condominio fechado</td>\n",
       "      <td>R$ 0</td>\n",
       "      <td>R$ 0</td>\n",
       "      <td>150m²</td>\n",
       "      <td>4</td>\n",
       "      <td>4</td>\n",
       "      <td>2</td>\n",
       "      <td>Churrasqueira, Piscina, Área de serviço, Ar co...</td>\n",
       "      <td>Piscina, Condomínio fechado</td>\n",
       "      <td>...</td>\n",
       "      <td>NaN</td>\n",
       "      <td>NaN</td>\n",
       "      <td>Código do anúncio: CA0565\\n\\nRef.:5435 - Um lu...</td>\n",
       "      <td>R$</td>\n",
       "      <td>569000.0</td>\n",
       "      <td>R$</td>\n",
       "      <td>0.0</td>\n",
       "      <td>R$</td>\n",
       "      <td>0.0</td>\n",
       "      <td>150.0</td>\n",
       "    </tr>\n",
       "    <tr>\n",
       "      <th>1</th>\n",
       "      <td>Casas</td>\n",
       "      <td>Venda - casa em condominio fechado</td>\n",
       "      <td>R$ 449</td>\n",
       "      <td>NaN</td>\n",
       "      <td>230m²</td>\n",
       "      <td>4</td>\n",
       "      <td>5 ou mais</td>\n",
       "      <td>4</td>\n",
       "      <td>Área de serviço, Varanda, Churrasqueira</td>\n",
       "      <td>Condomínio fechado, Segurança 24h, Área murada...</td>\n",
       "      <td>...</td>\n",
       "      <td>NaN</td>\n",
       "      <td>NaN</td>\n",
       "      <td>UMA CIDADE PENSADA PARA VOCÊ\\n\\nOcupando mais ...</td>\n",
       "      <td>R$</td>\n",
       "      <td>1350000.0</td>\n",
       "      <td>R$</td>\n",
       "      <td>449.0</td>\n",
       "      <td>NaN</td>\n",
       "      <td>NaN</td>\n",
       "      <td>230.0</td>\n",
       "    </tr>\n",
       "    <tr>\n",
       "      <th>2</th>\n",
       "      <td>Casas</td>\n",
       "      <td>Venda - casa em condominio fechado</td>\n",
       "      <td>R$ 850</td>\n",
       "      <td>R$ 0</td>\n",
       "      <td>210m²</td>\n",
       "      <td>4</td>\n",
       "      <td>4</td>\n",
       "      <td>3</td>\n",
       "      <td>Porteiro 24h, Varanda, Ar condicionado</td>\n",
       "      <td>Permitido animais, Portão eletrônico</td>\n",
       "      <td>...</td>\n",
       "      <td>NaN</td>\n",
       "      <td>NaN</td>\n",
       "      <td>Código do anúncio: EUSEBIO1\\n\\nA casa de condo...</td>\n",
       "      <td>R$</td>\n",
       "      <td>995000.0</td>\n",
       "      <td>R$</td>\n",
       "      <td>850.0</td>\n",
       "      <td>R$</td>\n",
       "      <td>0.0</td>\n",
       "      <td>210.0</td>\n",
       "    </tr>\n",
       "    <tr>\n",
       "      <th>3</th>\n",
       "      <td>Casas</td>\n",
       "      <td>Venda - casa em condominio fechado</td>\n",
       "      <td>R$ 1.150</td>\n",
       "      <td>R$ 0</td>\n",
       "      <td>335m²</td>\n",
       "      <td>4</td>\n",
       "      <td>4</td>\n",
       "      <td>4</td>\n",
       "      <td>Piscina, Área de serviço</td>\n",
       "      <td>Piscina</td>\n",
       "      <td>...</td>\n",
       "      <td>NaN</td>\n",
       "      <td>NaN</td>\n",
       "      <td>Código do anúncio: 85\\n\\nALPHAVILLE - FORTALEZ...</td>\n",
       "      <td>R$</td>\n",
       "      <td>4000000.0</td>\n",
       "      <td>R$</td>\n",
       "      <td>1150.0</td>\n",
       "      <td>R$</td>\n",
       "      <td>0.0</td>\n",
       "      <td>335.0</td>\n",
       "    </tr>\n",
       "    <tr>\n",
       "      <th>4</th>\n",
       "      <td>Apartamentos</td>\n",
       "      <td>Venda - apartamento padrão</td>\n",
       "      <td>R$ 0</td>\n",
       "      <td>R$ 0</td>\n",
       "      <td>50m²</td>\n",
       "      <td>2</td>\n",
       "      <td>1</td>\n",
       "      <td>1</td>\n",
       "      <td>NaN</td>\n",
       "      <td>NaN</td>\n",
       "      <td>...</td>\n",
       "      <td>Parque Guadalajara (Jurema)</td>\n",
       "      <td>Rua Poebla</td>\n",
       "      <td>Código do anúncio: 1M0JU63\\n\\nRepasse no Potir...</td>\n",
       "      <td>R$</td>\n",
       "      <td>35000.0</td>\n",
       "      <td>R$</td>\n",
       "      <td>0.0</td>\n",
       "      <td>R$</td>\n",
       "      <td>0.0</td>\n",
       "      <td>50.0</td>\n",
       "    </tr>\n",
       "  </tbody>\n",
       "</table>\n",
       "<p>5 rows × 23 columns</p>\n",
       "</div>"
      ],
      "text/plain": [
       "       Category                                Type Cond_Price IPTU_Price  \\\n",
       "0         Casas  Venda - casa em condominio fechado       R$ 0       R$ 0   \n",
       "1         Casas  Venda - casa em condominio fechado     R$ 449        NaN   \n",
       "2         Casas  Venda - casa em condominio fechado     R$ 850       R$ 0   \n",
       "3         Casas  Venda - casa em condominio fechado   R$ 1.150       R$ 0   \n",
       "4  Apartamentos          Venda - apartamento padrão       R$ 0       R$ 0   \n",
       "\n",
       "    Area Bedrooms  Bathrooms Garage  \\\n",
       "0  150m²        4          4      2   \n",
       "1  230m²        4  5 ou mais      4   \n",
       "2  210m²        4          4      3   \n",
       "3  335m²        4          4      4   \n",
       "4   50m²        2          1      1   \n",
       "\n",
       "                                     Property_Detail  \\\n",
       "0  Churrasqueira, Piscina, Área de serviço, Ar co...   \n",
       "1            Área de serviço, Varanda, Churrasqueira   \n",
       "2             Porteiro 24h, Varanda, Ar condicionado   \n",
       "3                           Piscina, Área de serviço   \n",
       "4                                                NaN   \n",
       "\n",
       "                                         Cond_Detail  ...  \\\n",
       "0                        Piscina, Condomínio fechado  ...   \n",
       "1  Condomínio fechado, Segurança 24h, Área murada...  ...   \n",
       "2               Permitido animais, Portão eletrônico  ...   \n",
       "3                                            Piscina  ...   \n",
       "4                                                NaN  ...   \n",
       "\n",
       "                     Neighboor     Address  \\\n",
       "0                          NaN         NaN   \n",
       "1                          NaN         NaN   \n",
       "2                          NaN         NaN   \n",
       "3                          NaN         NaN   \n",
       "4  Parque Guadalajara (Jurema)  Rua Poebla   \n",
       "\n",
       "                                         Description Price_Currency  \\\n",
       "0  Código do anúncio: CA0565\\n\\nRef.:5435 - Um lu...             R$   \n",
       "1  UMA CIDADE PENSADA PARA VOCÊ\\n\\nOcupando mais ...             R$   \n",
       "2  Código do anúncio: EUSEBIO1\\n\\nA casa de condo...             R$   \n",
       "3  Código do anúncio: 85\\n\\nALPHAVILLE - FORTALEZ...             R$   \n",
       "4  Código do anúncio: 1M0JU63\\n\\nRepasse no Potir...             R$   \n",
       "\n",
       "  Price_Value Cond_Currency Cond_Value  IPTU_Currency IPTU_Value  Area_value  \n",
       "0    569000.0            R$        0.0             R$        0.0       150.0  \n",
       "1   1350000.0            R$      449.0            NaN        NaN       230.0  \n",
       "2    995000.0            R$      850.0             R$        0.0       210.0  \n",
       "3   4000000.0            R$     1150.0             R$        0.0       335.0  \n",
       "4     35000.0            R$        0.0             R$        0.0        50.0  \n",
       "\n",
       "[5 rows x 23 columns]"
      ]
     },
     "execution_count": 16,
     "metadata": {},
     "output_type": "execute_result"
    }
   ],
   "source": [
    "df_Properties2.head()"
   ]
  },
  {
   "cell_type": "code",
   "execution_count": 17,
   "id": "e61f2201",
   "metadata": {},
   "outputs": [
    {
     "data": {
      "text/plain": [
       "3            4753\n",
       "2            2428\n",
       "4            1922\n",
       "5 ou mais     590\n",
       "1             207\n",
       "0               8\n",
       "Name: Bedrooms, dtype: int64"
      ]
     },
     "execution_count": 17,
     "metadata": {},
     "output_type": "execute_result"
    }
   ],
   "source": [
    "#Evaluating the different values and its quantities in the Bedrooms column\n",
    "df_Properties2['Bedrooms'].value_counts()"
   ]
  },
  {
   "cell_type": "code",
   "execution_count": 18,
   "id": "cda050ef",
   "metadata": {},
   "outputs": [],
   "source": [
    "#Looking to the columns Bathrooms and Garage we noted they have the same format as the Bedroom column\n",
    "#So we are creating new columns with numeric values\n",
    "df_Properties2['Bedrooms_qty'] = pd.to_numeric(df_Properties2[\"Bedrooms\"].str.replace(' ou mais',''))\n",
    "df_Properties2['Bathrooms_qty'] = pd.to_numeric(df_Properties2[\"Bathrooms\"].str.replace(' ou mais',''))\n",
    "df_Properties2['Garage_qty'] = pd.to_numeric(df_Properties2[\"Garage\"].str.replace(' ou mais',''))"
   ]
  },
  {
   "cell_type": "code",
   "execution_count": 19,
   "id": "2cbe6069",
   "metadata": {},
   "outputs": [
    {
     "data": {
      "text/html": [
       "<div>\n",
       "<style scoped>\n",
       "    .dataframe tbody tr th:only-of-type {\n",
       "        vertical-align: middle;\n",
       "    }\n",
       "\n",
       "    .dataframe tbody tr th {\n",
       "        vertical-align: top;\n",
       "    }\n",
       "\n",
       "    .dataframe thead th {\n",
       "        text-align: right;\n",
       "    }\n",
       "</style>\n",
       "<table border=\"1\" class=\"dataframe\">\n",
       "  <thead>\n",
       "    <tr style=\"text-align: right;\">\n",
       "      <th></th>\n",
       "      <th>Category</th>\n",
       "      <th>Type</th>\n",
       "      <th>Cond_Price</th>\n",
       "      <th>IPTU_Price</th>\n",
       "      <th>Area</th>\n",
       "      <th>Bedrooms</th>\n",
       "      <th>Bathrooms</th>\n",
       "      <th>Garage</th>\n",
       "      <th>Property_Detail</th>\n",
       "      <th>Cond_Detail</th>\n",
       "      <th>...</th>\n",
       "      <th>Price_Currency</th>\n",
       "      <th>Price_Value</th>\n",
       "      <th>Cond_Currency</th>\n",
       "      <th>Cond_Value</th>\n",
       "      <th>IPTU_Currency</th>\n",
       "      <th>IPTU_Value</th>\n",
       "      <th>Area_value</th>\n",
       "      <th>Bedrooms_qty</th>\n",
       "      <th>Bathrooms_qty</th>\n",
       "      <th>Garage_qty</th>\n",
       "    </tr>\n",
       "  </thead>\n",
       "  <tbody>\n",
       "    <tr>\n",
       "      <th>0</th>\n",
       "      <td>Casas</td>\n",
       "      <td>Venda - casa em condominio fechado</td>\n",
       "      <td>R$ 0</td>\n",
       "      <td>R$ 0</td>\n",
       "      <td>150m²</td>\n",
       "      <td>4</td>\n",
       "      <td>4</td>\n",
       "      <td>2</td>\n",
       "      <td>Churrasqueira, Piscina, Área de serviço, Ar co...</td>\n",
       "      <td>Piscina, Condomínio fechado</td>\n",
       "      <td>...</td>\n",
       "      <td>R$</td>\n",
       "      <td>569000.0</td>\n",
       "      <td>R$</td>\n",
       "      <td>0.0</td>\n",
       "      <td>R$</td>\n",
       "      <td>0.0</td>\n",
       "      <td>150.0</td>\n",
       "      <td>4</td>\n",
       "      <td>4.0</td>\n",
       "      <td>2.0</td>\n",
       "    </tr>\n",
       "    <tr>\n",
       "      <th>1</th>\n",
       "      <td>Casas</td>\n",
       "      <td>Venda - casa em condominio fechado</td>\n",
       "      <td>R$ 449</td>\n",
       "      <td>NaN</td>\n",
       "      <td>230m²</td>\n",
       "      <td>4</td>\n",
       "      <td>5 ou mais</td>\n",
       "      <td>4</td>\n",
       "      <td>Área de serviço, Varanda, Churrasqueira</td>\n",
       "      <td>Condomínio fechado, Segurança 24h, Área murada...</td>\n",
       "      <td>...</td>\n",
       "      <td>R$</td>\n",
       "      <td>1350000.0</td>\n",
       "      <td>R$</td>\n",
       "      <td>449.0</td>\n",
       "      <td>NaN</td>\n",
       "      <td>NaN</td>\n",
       "      <td>230.0</td>\n",
       "      <td>4</td>\n",
       "      <td>5.0</td>\n",
       "      <td>4.0</td>\n",
       "    </tr>\n",
       "    <tr>\n",
       "      <th>2</th>\n",
       "      <td>Casas</td>\n",
       "      <td>Venda - casa em condominio fechado</td>\n",
       "      <td>R$ 850</td>\n",
       "      <td>R$ 0</td>\n",
       "      <td>210m²</td>\n",
       "      <td>4</td>\n",
       "      <td>4</td>\n",
       "      <td>3</td>\n",
       "      <td>Porteiro 24h, Varanda, Ar condicionado</td>\n",
       "      <td>Permitido animais, Portão eletrônico</td>\n",
       "      <td>...</td>\n",
       "      <td>R$</td>\n",
       "      <td>995000.0</td>\n",
       "      <td>R$</td>\n",
       "      <td>850.0</td>\n",
       "      <td>R$</td>\n",
       "      <td>0.0</td>\n",
       "      <td>210.0</td>\n",
       "      <td>4</td>\n",
       "      <td>4.0</td>\n",
       "      <td>3.0</td>\n",
       "    </tr>\n",
       "    <tr>\n",
       "      <th>3</th>\n",
       "      <td>Casas</td>\n",
       "      <td>Venda - casa em condominio fechado</td>\n",
       "      <td>R$ 1.150</td>\n",
       "      <td>R$ 0</td>\n",
       "      <td>335m²</td>\n",
       "      <td>4</td>\n",
       "      <td>4</td>\n",
       "      <td>4</td>\n",
       "      <td>Piscina, Área de serviço</td>\n",
       "      <td>Piscina</td>\n",
       "      <td>...</td>\n",
       "      <td>R$</td>\n",
       "      <td>4000000.0</td>\n",
       "      <td>R$</td>\n",
       "      <td>1150.0</td>\n",
       "      <td>R$</td>\n",
       "      <td>0.0</td>\n",
       "      <td>335.0</td>\n",
       "      <td>4</td>\n",
       "      <td>4.0</td>\n",
       "      <td>4.0</td>\n",
       "    </tr>\n",
       "    <tr>\n",
       "      <th>4</th>\n",
       "      <td>Apartamentos</td>\n",
       "      <td>Venda - apartamento padrão</td>\n",
       "      <td>R$ 0</td>\n",
       "      <td>R$ 0</td>\n",
       "      <td>50m²</td>\n",
       "      <td>2</td>\n",
       "      <td>1</td>\n",
       "      <td>1</td>\n",
       "      <td>NaN</td>\n",
       "      <td>NaN</td>\n",
       "      <td>...</td>\n",
       "      <td>R$</td>\n",
       "      <td>35000.0</td>\n",
       "      <td>R$</td>\n",
       "      <td>0.0</td>\n",
       "      <td>R$</td>\n",
       "      <td>0.0</td>\n",
       "      <td>50.0</td>\n",
       "      <td>2</td>\n",
       "      <td>1.0</td>\n",
       "      <td>1.0</td>\n",
       "    </tr>\n",
       "  </tbody>\n",
       "</table>\n",
       "<p>5 rows × 26 columns</p>\n",
       "</div>"
      ],
      "text/plain": [
       "       Category                                Type Cond_Price IPTU_Price  \\\n",
       "0         Casas  Venda - casa em condominio fechado       R$ 0       R$ 0   \n",
       "1         Casas  Venda - casa em condominio fechado     R$ 449        NaN   \n",
       "2         Casas  Venda - casa em condominio fechado     R$ 850       R$ 0   \n",
       "3         Casas  Venda - casa em condominio fechado   R$ 1.150       R$ 0   \n",
       "4  Apartamentos          Venda - apartamento padrão       R$ 0       R$ 0   \n",
       "\n",
       "    Area Bedrooms  Bathrooms Garage  \\\n",
       "0  150m²        4          4      2   \n",
       "1  230m²        4  5 ou mais      4   \n",
       "2  210m²        4          4      3   \n",
       "3  335m²        4          4      4   \n",
       "4   50m²        2          1      1   \n",
       "\n",
       "                                     Property_Detail  \\\n",
       "0  Churrasqueira, Piscina, Área de serviço, Ar co...   \n",
       "1            Área de serviço, Varanda, Churrasqueira   \n",
       "2             Porteiro 24h, Varanda, Ar condicionado   \n",
       "3                           Piscina, Área de serviço   \n",
       "4                                                NaN   \n",
       "\n",
       "                                         Cond_Detail  ... Price_Currency  \\\n",
       "0                        Piscina, Condomínio fechado  ...             R$   \n",
       "1  Condomínio fechado, Segurança 24h, Área murada...  ...             R$   \n",
       "2               Permitido animais, Portão eletrônico  ...             R$   \n",
       "3                                            Piscina  ...             R$   \n",
       "4                                                NaN  ...             R$   \n",
       "\n",
       "   Price_Value Cond_Currency Cond_Value IPTU_Currency IPTU_Value Area_value  \\\n",
       "0     569000.0            R$        0.0            R$        0.0      150.0   \n",
       "1    1350000.0            R$      449.0           NaN        NaN      230.0   \n",
       "2     995000.0            R$      850.0            R$        0.0      210.0   \n",
       "3    4000000.0            R$     1150.0            R$        0.0      335.0   \n",
       "4      35000.0            R$        0.0            R$        0.0       50.0   \n",
       "\n",
       "   Bedrooms_qty Bathrooms_qty  Garage_qty  \n",
       "0             4           4.0         2.0  \n",
       "1             4           5.0         4.0  \n",
       "2             4           4.0         3.0  \n",
       "3             4           4.0         4.0  \n",
       "4             2           1.0         1.0  \n",
       "\n",
       "[5 rows x 26 columns]"
      ]
     },
     "execution_count": 19,
     "metadata": {},
     "output_type": "execute_result"
    }
   ],
   "source": [
    "df_Properties2.head()"
   ]
  },
  {
   "cell_type": "code",
   "execution_count": 20,
   "id": "94db3be6",
   "metadata": {},
   "outputs": [
    {
     "name": "stdout",
     "output_type": "stream",
     "text": [
      "<class 'pandas.core.frame.DataFrame'>\n",
      "Int64Index: 9908 entries, 0 to 9976\n",
      "Data columns (total 26 columns):\n",
      " #   Column           Non-Null Count  Dtype  \n",
      "---  ------           --------------  -----  \n",
      " 0   Category         9908 non-null   object \n",
      " 1   Type             9908 non-null   object \n",
      " 2   Cond_Price       9490 non-null   object \n",
      " 3   IPTU_Price       9235 non-null   object \n",
      " 4   Area             9731 non-null   object \n",
      " 5   Bedrooms         9908 non-null   object \n",
      " 6   Bathrooms        9886 non-null   object \n",
      " 7   Garage           9526 non-null   object \n",
      " 8   Property_Detail  7190 non-null   object \n",
      " 9   Cond_Detail      6838 non-null   object \n",
      " 10  Price            9879 non-null   object \n",
      " 11  Zipcode          9908 non-null   int64  \n",
      " 12  City             9908 non-null   object \n",
      " 13  Neighboor        6482 non-null   object \n",
      " 14  Address          6355 non-null   object \n",
      " 15  Description      9908 non-null   object \n",
      " 16  Price_Currency   9879 non-null   object \n",
      " 17  Price_Value      9879 non-null   float64\n",
      " 18  Cond_Currency    9490 non-null   object \n",
      " 19  Cond_Value       9490 non-null   float64\n",
      " 20  IPTU_Currency    9235 non-null   object \n",
      " 21  IPTU_Value       9235 non-null   float64\n",
      " 22  Area_value       9731 non-null   float64\n",
      " 23  Bedrooms_qty     9908 non-null   int64  \n",
      " 24  Bathrooms_qty    9886 non-null   float64\n",
      " 25  Garage_qty       9526 non-null   float64\n",
      "dtypes: float64(6), int64(2), object(18)\n",
      "memory usage: 2.0+ MB\n"
     ]
    }
   ],
   "source": [
    "df_Properties2.info()"
   ]
  },
  {
   "cell_type": "code",
   "execution_count": 21,
   "id": "4dbfa6b8-4504-4154-a3a5-fdbf733e3b79",
   "metadata": {},
   "outputs": [
    {
     "data": {
      "text/plain": [
       "Apartamentos    4964\n",
       "Casas           4944\n",
       "Name: Category, dtype: int64"
      ]
     },
     "execution_count": 21,
     "metadata": {},
     "output_type": "execute_result"
    }
   ],
   "source": [
    "#Let's look to the Category Column\n",
    "df_Properties2['Category'].value_counts()"
   ]
  },
  {
   "cell_type": "code",
   "execution_count": 25,
   "id": "1896b105-ac6f-40a9-9077-a3e24414c7c6",
   "metadata": {},
   "outputs": [
    {
     "data": {
      "text/plain": [
       "Venda - apartamento padrão            4750\n",
       "Venda - casa em rua pública           3022\n",
       "Venda - casa em condominio fechado    1900\n",
       "Venda - apartamento cobertura          143\n",
       "Venda - loft/studio                     51\n",
       "Venda - casa em vila                    22\n",
       "Venda - apartamento duplex/triplex      14\n",
       "Venda - apartamento kitchenette          6\n",
       "Name: Type, dtype: int64"
      ]
     },
     "execution_count": 25,
     "metadata": {},
     "output_type": "execute_result"
    }
   ],
   "source": [
    "#Let's look to the Type Column\n",
    "df_Properties2['Type'].value_counts()"
   ]
  },
  {
   "cell_type": "code",
   "execution_count": 27,
   "id": "d0e31c15-6c56-43af-bbea-c209e6aaf4d7",
   "metadata": {},
   "outputs": [
    {
     "data": {
      "text/plain": [
       "0                             Piscina, Condomínio fechado\n",
       "1       Condomínio fechado, Segurança 24h, Área murada...\n",
       "2                    Permitido animais, Portão eletrônico\n",
       "3                                                 Piscina\n",
       "4                                                     NaN\n",
       "                              ...                        \n",
       "9972                                    Permitido animais\n",
       "9973                                                  NaN\n",
       "9974    Portaria, Piscina, Permitido animais, Salão de...\n",
       "9975                                              Piscina\n",
       "9976    Permitido animais, Piscina, Academia, Salão de...\n",
       "Name: Cond_Detail, Length: 9908, dtype: object"
      ]
     },
     "execution_count": 27,
     "metadata": {},
     "output_type": "execute_result"
    }
   ],
   "source": [
    "#Let's look to the Cond_Detail Column\n",
    "df_Properties2['Cond_Detail']"
   ]
  },
  {
   "cell_type": "code",
   "execution_count": 28,
   "id": "32a2b88b-109d-48bd-80a0-f5c8db2f8117",
   "metadata": {},
   "outputs": [
    {
     "data": {
      "text/plain": [
       "0       Churrasqueira, Piscina, Área de serviço, Ar co...\n",
       "1                 Área de serviço, Varanda, Churrasqueira\n",
       "2                  Porteiro 24h, Varanda, Ar condicionado\n",
       "3                                Piscina, Área de serviço\n",
       "4                                                     NaN\n",
       "                              ...                        \n",
       "9972    Armários embutidos, Armários na cozinha, Área ...\n",
       "9973                                                  NaN\n",
       "9974          Mobiliado, Piscina, Academia, Churrasqueira\n",
       "9975                    Piscina, Varanda, Área de serviço\n",
       "9976            Piscina, Churrasqueira, Academia, Varanda\n",
       "Name: Property_Detail, Length: 9908, dtype: object"
      ]
     },
     "execution_count": 28,
     "metadata": {},
     "output_type": "execute_result"
    }
   ],
   "source": [
    "#Let's look to the Property_Detail Column\n",
    "df_Properties2['Property_Detail']"
   ]
  },
  {
   "cell_type": "code",
   "execution_count": 29,
   "id": "6e7b44aa-7bb3-4109-bd76-03bceb45a27e",
   "metadata": {},
   "outputs": [
    {
     "data": {
      "text/plain": [
       "Fortaleza                  4948\n",
       "Eusébio                    2387\n",
       "Aquiraz                     976\n",
       "Caucaia                     721\n",
       "Maracanaú                   348\n",
       "Itaitinga                   262\n",
       "Pacatuba                    114\n",
       "Maranguape                   57\n",
       "São Gonçalo do Amarante      47\n",
       "Cascavel                     19\n",
       "Horizonte                     9\n",
       "Pindoretama                   9\n",
       "Pacajus                       6\n",
       "Pavuna, Pacatuba              2\n",
       "Monguba, Pacatuba             1\n",
       "João de Castro                1\n",
       "Caponga, Cascavel             1\n",
       "Name: City, dtype: int64"
      ]
     },
     "execution_count": 29,
     "metadata": {},
     "output_type": "execute_result"
    }
   ],
   "source": [
    "#Let's look to the City Column\n",
    "df_Properties2['City'].value_counts()"
   ]
  },
  {
   "cell_type": "code",
   "execution_count": 41,
   "id": "eb6fd084",
   "metadata": {},
   "outputs": [
    {
     "data": {
      "text/plain": [
       "Fortaleza                  4948\n",
       "Eusébio                    2387\n",
       "Aquiraz                     976\n",
       "Caucaia                     721\n",
       "Maracanaú                   348\n",
       "Itaitinga                   262\n",
       "Pacatuba                    114\n",
       "Maranguape                   57\n",
       "São Gonçalo do Amarante      47\n",
       "Name: City, dtype: int64"
      ]
     },
     "execution_count": 41,
     "metadata": {},
     "output_type": "execute_result"
    }
   ],
   "source": [
    "#I will remove the cities with less than 20 properties\n",
    "df_Properties3 = df_Properties2[~df_Properties2['City'].isin( ['Caponga, Cascavel'\n",
    "                                                               ,'João de Castro'\n",
    "                                                               ,'Monguba, Pacatuba'\n",
    "                                                               ,'Pavuna, Pacatuba'\n",
    "                                                               ,'Pacajus'\n",
    "                                                               ,'Pindoretama'\n",
    "                                                               ,'Horizonte'\n",
    "                                                               ,'Cascavel'])]\n",
    "df_Properties3['City'].value_counts()"
   ]
  },
  {
   "cell_type": "code",
   "execution_count": 45,
   "id": "e71769a0-7f7e-424c-b7bb-8a9aefc9aa94",
   "metadata": {},
   "outputs": [
    {
     "name": "stdout",
     "output_type": "stream",
     "text": [
      "<class 'pandas.core.frame.DataFrame'>\n",
      "Int64Index: 9677 entries, 0 to 9976\n",
      "Data columns (total 15 columns):\n",
      " #   Column           Non-Null Count  Dtype  \n",
      "---  ------           --------------  -----  \n",
      " 0   Category         9677 non-null   object \n",
      " 1   Type             9677 non-null   object \n",
      " 2   Property_Detail  7080 non-null   object \n",
      " 3   Cond_Detail      6748 non-null   object \n",
      " 4   Zipcode          9677 non-null   int64  \n",
      " 5   City             9677 non-null   object \n",
      " 6   Neighboor        6319 non-null   object \n",
      " 7   Address          6211 non-null   object \n",
      " 8   Price_Value      9677 non-null   float64\n",
      " 9   Cond_Value       9422 non-null   float64\n",
      " 10  IPTU_Value       9183 non-null   float64\n",
      " 11  Area_value       9677 non-null   float64\n",
      " 12  Bedrooms_qty     9677 non-null   int64  \n",
      " 13  Bathrooms_qty    9663 non-null   float64\n",
      " 14  Garage_qty       9339 non-null   float64\n",
      "dtypes: float64(6), int64(2), object(7)\n",
      "memory usage: 1.2+ MB\n"
     ]
    }
   ],
   "source": [
    "#Drop the rows that have null values of Area and Price\n",
    "df_Properties3 = df_Properties3[df_Properties3['Area_value'].notnull()]\n",
    "df_Properties3 = df_Properties3[df_Properties3['Price_Value'].notnull()]\n",
    "#Drop unecessary columns as 'Cond_Price','IPTU_Price', 'Area', 'Bedrooms', 'Bathrooms',\n",
    "#'Garage, 'Price', 'Description', 'Price_Currency', 'Cond_Currency', 'IPTU_Currency'\n",
    "df_Properties3.drop(['Cond_Price'\n",
    "                     ,'IPTU_Price'\n",
    "                     , 'Area'\n",
    "                     , 'Bedrooms'\n",
    "                     , 'Bathrooms'\n",
    "                     ,'Garage'\n",
    "                     , 'Price'\n",
    "                     , 'Description'\n",
    "                     , 'Price_Currency'\n",
    "                     , 'Cond_Currency'\n",
    "                     , 'IPTU_Currency'],axis=1, inplace=True)\n",
    "df_Properties3.info()"
   ]
  },
  {
   "cell_type": "code",
   "execution_count": 46,
   "id": "946b3651-1557-47d1-826b-ae0d45b1e2f0",
   "metadata": {},
   "outputs": [
    {
     "data": {
      "text/plain": [
       "0.0         4833\n",
       "500.0        162\n",
       "600.0        154\n",
       "1000.0       133\n",
       "700.0        129\n",
       "            ... \n",
       "222.0          1\n",
       "1847.0         1\n",
       "1097.0         1\n",
       "155000.0       1\n",
       "110000.0       1\n",
       "Name: Cond_Value, Length: 717, dtype: int64"
      ]
     },
     "execution_count": 46,
     "metadata": {},
     "output_type": "execute_result"
    }
   ],
   "source": [
    "df_Properties3.Cond_Value.value_counts()"
   ]
  },
  {
   "cell_type": "code",
   "execution_count": 47,
   "id": "e7138925-3e14-4a32-b2d6-88d31880626f",
   "metadata": {},
   "outputs": [
    {
     "data": {
      "text/plain": [
       "0.0        7322\n",
       "1.0         282\n",
       "200.0        76\n",
       "150.0        50\n",
       "1200.0       47\n",
       "           ... \n",
       "228.0         1\n",
       "927.0         1\n",
       "410.0         1\n",
       "15275.0       1\n",
       "716.0         1\n",
       "Name: IPTU_Value, Length: 512, dtype: int64"
      ]
     },
     "execution_count": 47,
     "metadata": {},
     "output_type": "execute_result"
    }
   ],
   "source": [
    "df_Properties3.IPTU_Value.value_counts()"
   ]
  },
  {
   "cell_type": "code",
   "execution_count": 48,
   "id": "10d47b20-11fa-429b-898c-314026ed644d",
   "metadata": {},
   "outputs": [
    {
     "name": "stdout",
     "output_type": "stream",
     "text": [
      "<class 'pandas.core.frame.DataFrame'>\n",
      "Int64Index: 9677 entries, 0 to 9976\n",
      "Data columns (total 13 columns):\n",
      " #   Column           Non-Null Count  Dtype  \n",
      "---  ------           --------------  -----  \n",
      " 0   Category         9677 non-null   object \n",
      " 1   Type             9677 non-null   object \n",
      " 2   Property_Detail  7080 non-null   object \n",
      " 3   Cond_Detail      6748 non-null   object \n",
      " 4   Zipcode          9677 non-null   int64  \n",
      " 5   City             9677 non-null   object \n",
      " 6   Neighboor        6319 non-null   object \n",
      " 7   Address          6211 non-null   object \n",
      " 8   Price_Value      9677 non-null   float64\n",
      " 9   Area_value       9677 non-null   float64\n",
      " 10  Bedrooms_qty     9677 non-null   int64  \n",
      " 11  Bathrooms_qty    9663 non-null   float64\n",
      " 12  Garage_qty       9339 non-null   float64\n",
      "dtypes: float64(4), int64(2), object(7)\n",
      "memory usage: 1.0+ MB\n"
     ]
    }
   ],
   "source": [
    "#Too many zero values in the Cond_Value and also in the IPTU_Value so lets also drop these 2 columns\n",
    "df_Properties3.drop(['Cond_Value'\n",
    "                     ,'IPTU_Value'],axis=1, inplace=True)\n",
    "df_Properties3.info()"
   ]
  },
  {
   "cell_type": "code",
   "execution_count": 52,
   "id": "e51a066f-184d-45b1-810e-e563f4084780",
   "metadata": {},
   "outputs": [
    {
     "data": {
      "text/plain": [
       "Category      Type                              \n",
       "Apartamentos  Venda - apartamento cobertura          142\n",
       "              Venda - apartamento duplex/triplex      13\n",
       "              Venda - apartamento kitchenette          6\n",
       "              Venda - apartamento padrão            4697\n",
       "              Venda - loft/studio                     51\n",
       "Casas         Venda - casa em condominio fechado    1875\n",
       "              Venda - casa em rua pública           2879\n",
       "              Venda - casa em vila                    14\n",
       "Name: Zipcode, dtype: int64"
      ]
     },
     "execution_count": 52,
     "metadata": {},
     "output_type": "execute_result"
    }
   ],
   "source": [
    "#looks like Type column is a subset of the Category column so lets check\n",
    "df_Properties3.groupby(['Category','Type'])['Zipcode'].count()"
   ]
  },
  {
   "cell_type": "code",
   "execution_count": 63,
   "id": "6d4bf97c-597f-4ece-a0c6-4be859ca9d3f",
   "metadata": {},
   "outputs": [
    {
     "name": "stdout",
     "output_type": "stream",
     "text": [
      "<class 'pandas.core.frame.DataFrame'>\n",
      "Int64Index: 9677 entries, 0 to 9976\n",
      "Data columns (total 13 columns):\n",
      " #   Column              Non-Null Count  Dtype  \n",
      "---  ------              --------------  -----  \n",
      " 0   Type                9677 non-null   object \n",
      " 1   Property_Detail     7080 non-null   object \n",
      " 2   Cond_Detail         6748 non-null   object \n",
      " 3   Zipcode             9677 non-null   int64  \n",
      " 4   City                9677 non-null   object \n",
      " 5   Neighboor           6319 non-null   object \n",
      " 6   Address             6211 non-null   object \n",
      " 7   Price_Value         9677 non-null   float64\n",
      " 8   Area_value          9677 non-null   float64\n",
      " 9   Bedrooms_qty        9677 non-null   int64  \n",
      " 10  Bathrooms_qty       9663 non-null   float64\n",
      " 11  Garage_qty          9339 non-null   float64\n",
      " 12  Price_Square_Meter  9677 non-null   float64\n",
      "dtypes: float64(5), int64(2), object(6)\n",
      "memory usage: 1.0+ MB\n"
     ]
    }
   ],
   "source": [
    "#As we can see above the Type in Category 'Apartamentos' \n",
    "#are different of the Type in the Category 'Casas' so the information \n",
    "#in these columns are redundant, so we can drop the columns 'Category'\n",
    "df_Properties3.drop(['Category'],axis=1, inplace=True)\n",
    "df_Properties3.info()"
   ]
  },
  {
   "cell_type": "code",
   "execution_count": 67,
   "id": "b509d141-29db-4735-b872-48f9d520dae7",
   "metadata": {},
   "outputs": [],
   "source": [
    "#Lets drop the lines where the Area_value is less than 50 square meters\n",
    "df_Properties3 = df_Properties3[df_Properties3['Area_value'] >= 50]\n",
    "#Lets create the columns of value per square meter\n",
    "df_Properties3['Price_Square_Meter'] = df_Properties3['Price_Value']/df_Properties3['Area_value']"
   ]
  },
  {
   "cell_type": "code",
   "execution_count": 87,
   "id": "d89ed5ff-b8c7-4d29-9be7-635034d12187",
   "metadata": {},
   "outputs": [
    {
     "data": {
      "text/plain": [
       "<AxesSubplot:>"
      ]
     },
     "execution_count": 87,
     "metadata": {},
     "output_type": "execute_result"
    },
    {
     "data": {
      "image/png": "[encoded data removed]",
      "text/plain": [
       "<Figure size 432x288 with 1 Axes>"
      ]
     },
     "metadata": {
      "needs_background": "light"
     },
     "output_type": "display_data"
    }
   ],
   "source": [
    "#Let's analyze the distribution of missing values\n",
    "sns.heatmap(df_Properties3.isnull(),cbar=False,cmap='viridis')"
   ]
  },
  {
   "cell_type": "code",
   "execution_count": 100,
   "id": "ec2d3512-b290-488e-b303-7c272c9c795d",
   "metadata": {},
   "outputs": [],
   "source": [
    "#With the heatmap above we can see the columns Property_Detail, Cond_Detail, Neighboor, Adress and Garage_qty has some missing values\n",
    "#Let's deal one by one\n",
    "#For the Garage_qty we can consider if the information was not provided it means there is no garage and we will fill with zero\n",
    "df_Properties3['Garage_qty'] = df_Properties3['Garage_qty'].apply(lambda x: x if not math.isnan(x) else 0)"
   ]
  },
  {
   "cell_type": "code",
   "execution_count": 103,
   "id": "6fd3b1b5-ba31-4bb0-a46b-e96c769af9f6",
   "metadata": {},
   "outputs": [
    {
     "data": {
      "text/plain": [
       "Venda - casa em rua pública           1810\n",
       "Venda - apartamento padrão             794\n",
       "Venda - casa em condominio fechado     162\n",
       "Venda - apartamento cobertura           17\n",
       "Venda - casa em vila                     3\n",
       "Venda - loft/studio                      2\n",
       "Name: Type, dtype: int64"
      ]
     },
     "execution_count": 103,
     "metadata": {},
     "output_type": "execute_result"
    }
   ],
   "source": [
    "#For Cond_detail it is about details of amendments in the condominium, so it only makes sense for properties inside a condominium, so lets check it\n",
    "df_Properties3[df_Properties3['Cond_Detail'].isnull()]['Type'].value_counts()"
   ]
  },
  {
   "cell_type": "code",
   "execution_count": 104,
   "id": "f4a62276-0581-41f0-bc95-0f6ab540ad3c",
   "metadata": {},
   "outputs": [
    {
     "data": {
      "text/plain": [
       "Venda - casa em rua pública           1360\n",
       "Venda - apartamento padrão             828\n",
       "Venda - casa em condominio fechado     224\n",
       "Venda - apartamento cobertura           13\n",
       "Venda - casa em vila                     4\n",
       "Venda - loft/studio                      2\n",
       "Venda - apartamento duplex/triplex       1\n",
       "Name: Type, dtype: int64"
      ]
     },
     "execution_count": 104,
     "metadata": {},
     "output_type": "execute_result"
    }
   ],
   "source": [
    "#So looking the information above we can see the most properties without condominium details is really the ones that is not in a condominium, so in this case \n",
    "#since we cannot determine the properties amendments we will consider the properties that did not list do not have it and later we will create new columns for these amendments\n",
    "#Lets chech about properties details\n",
    "df_Properties3[df_Properties3['Property_Detail'].isnull()]['Type'].value_counts()"
   ]
  },
  {
   "cell_type": "code",
   "execution_count": 108,
   "id": "561950ec-ad9a-4ac1-b267-ff7770f82aa1",
   "metadata": {},
   "outputs": [
    {
     "data": {
      "text/plain": [
       "Fortaleza                  848\n",
       "Eusébio                    388\n",
       "Itaitinga                  160\n",
       "Caucaia                    147\n",
       "Maracanaú                  118\n",
       "Aquiraz                    108\n",
       "Pacatuba                    35\n",
       "Maranguape                  31\n",
       "São Gonçalo do Amarante     10\n",
       "Name: City, dtype: int64"
      ]
     },
     "execution_count": 108,
     "metadata": {},
     "output_type": "execute_result"
    }
   ],
   "source": [
    "#For property details it is really hard to understand why someone that is trying to sell a house would not list all the details to show the benefits of its home, \n",
    "#later for applying some machine learning algorithms will be better remove these line with null values\n",
    "#Lets check if we remove the lines with \"Property Details\" null, how many Cond_Detail would still be null\n",
    "df_Properties3[df_Properties3['Property_Detail'].isnull()][df_Properties3[df_Properties3['Property_Detail'].isnull()]['Cond_Detail'].isnull()]['City'].value_counts()"
   ]
  },
  {
   "cell_type": "code",
   "execution_count": null,
   "id": "c65f6f93-9d60-40dd-88c6-2450d5de20e7",
   "metadata": {},
   "outputs": [],
   "source": [
    "df_Properties3[df_Properties3['Neighboor'].isnull()]['Zipcode'].value_counts()"
   ]
  },
  {
   "cell_type": "code",
   "execution_count": 93,
   "id": "c5516f6a-2541-406a-ba2e-8729f7bde99b",
   "metadata": {},
   "outputs": [
    {
     "data": {
      "text/plain": [
       "Eusébio                    2093\n",
       "Aquiraz                     957\n",
       "Itaitinga                   244\n",
       "São Gonçalo do Amarante      45\n",
       "Fortaleza                    40\n",
       "Caucaia                       8\n",
       "Pacatuba                      3\n",
       "Maracanaú                     2\n",
       "Name: City, dtype: int64"
      ]
     },
     "execution_count": 93,
     "metadata": {},
     "output_type": "execute_result"
    }
   ],
   "source": [
    "df_Properties3[df_Properties3['Address'].isnull()]['City'].value_counts()"
   ]
  },
  {
   "cell_type": "code",
   "execution_count": null,
   "id": "e5716464-6e75-4a9e-af55-439e4584ef44",
   "metadata": {},
   "outputs": [],
   "source": [
    "#Lets encode some columns like Type and City"
   ]
  },
  {
   "cell_type": "code",
   "execution_count": null,
   "id": "81887c90-13d6-4f42-91b0-fd1f2bcf0284",
   "metadata": {},
   "outputs": [],
   "source": []
  },
  {
   "cell_type": "code",
   "execution_count": null,
   "id": "94beaeca-da14-40d1-bae2-d0ad3afd1764",
   "metadata": {},
   "outputs": [],
   "source": []
  },
  {
   "cell_type": "code",
   "execution_count": null,
   "id": "acc5636e-325e-49ef-89b2-7034b7457fae",
   "metadata": {},
   "outputs": [],
   "source": []
  },
  {
   "cell_type": "code",
   "execution_count": null,
   "id": "f31cf00f-03bd-4f98-ac17-dd4884cb1de5",
   "metadata": {},
   "outputs": [],
   "source": []
  },
  {
   "cell_type": "code",
   "execution_count": null,
   "id": "0294f307-8d0a-48fc-9424-91247ddf57f6",
   "metadata": {},
   "outputs": [],
   "source": []
  },
  {
   "cell_type": "code",
   "execution_count": null,
   "id": "a01cc334-ab4f-4fc4-8947-978789d91c32",
   "metadata": {},
   "outputs": [],
   "source": []
  },
  {
   "cell_type": "code",
   "execution_count": 75,
   "id": "a7f6004b-a30a-43a8-97a3-533ff33e630c",
   "metadata": {},
   "outputs": [
    {
     "data": {
      "text/plain": [
       "<AxesSubplot:title={'center':'Average price per square meter by city'}, xlabel='City', ylabel='Average price per square meter'>"
      ]
     },
     "execution_count": 75,
     "metadata": {},
     "output_type": "execute_result"
    },
    {
     "data": {
      "image/png": "[encoded data removed]",
      "text/plain": [
       "<Figure size 720x720 with 1 Axes>"
      ]
     },
     "metadata": {
      "needs_background": "light"
     },
     "output_type": "display_data"
    }
   ],
   "source": [
    "#So we can check the city with the average price per square meter\n",
    "df_Properties3.groupby('City')['Price_Square_Meter'].mean().sort_values(ascending=False).plot.bar(title = 'Average price per square meter by city'\n",
    "                                                                                                  ,xlabel = 'City'\n",
    "                                                                                                  ,ylabel='Average price per square meter'\n",
    "                                                                                                  ,figsize=(10,10))"
   ]
  },
  {
   "cell_type": "code",
   "execution_count": 73,
   "id": "f25b4c87-6602-44d0-be51-e0051cf1e612",
   "metadata": {},
   "outputs": [
    {
     "data": {
      "text/plain": [
       "<AxesSubplot:title={'center':'Quantity of properties for sale by city'}, xlabel='City', ylabel='Quantity of properties for sale'>"
      ]
     },
     "execution_count": 73,
     "metadata": {},
     "output_type": "execute_result"
    },
    {
     "data": {
      "image/png": "[encoded data removed]",
      "text/plain": [
       "<Figure size 720x720 with 1 Axes>"
      ]
     },
     "metadata": {
      "needs_background": "light"
     },
     "output_type": "display_data"
    }
   ],
   "source": [
    "#Quantity of properties for sale by city\n",
    "df_Properties3.groupby('City')['Price_Value'].count().sort_values(ascending=False).plot.bar(title = 'Quantity of properties for sale by city'\n",
    "                                                                                                  ,xlabel = 'City'\n",
    "                                                                                                  ,ylabel='Quantity of properties for sale'\n",
    "                                                                                                  ,figsize=(10,10))"
   ]
  },
  {
   "cell_type": "code",
   "execution_count": 74,
   "id": "12ecd4dd-3af1-48cb-aefb-94551de3b5ec",
   "metadata": {},
   "outputs": [
    {
     "data": {
      "text/plain": [
       "<AxesSubplot:title={'center':'Average Price by city'}, xlabel='City', ylabel='Average Price'>"
      ]
     },
     "execution_count": 74,
     "metadata": {},
     "output_type": "execute_result"
    },
    {
     "data": {
      "image/png": "[encoded data removed]",
      "text/plain": [
       "<Figure size 720x720 with 1 Axes>"
      ]
     },
     "metadata": {
      "needs_background": "light"
     },
     "output_type": "display_data"
    }
   ],
   "source": [
    "#Average Price of the Properties per city\n",
    "df_Properties3.groupby('City')['Price_Value'].mean().sort_values(ascending=False).plot.bar(title = 'Average Price by city'\n",
    "                                                                                                  ,xlabel = 'City'\n",
    "                                                                                                  ,ylabel='Average Price'\n",
    "                                                                                                  ,figsize=(10,10))"
   ]
  },
  {
   "cell_type": "code",
   "execution_count": null,
   "id": "51336415-dfb3-4867-b2eb-c36b149da9c8",
   "metadata": {},
   "outputs": [],
   "source": []
  }
 ],
 "metadata": {
  "kernelspec": {
   "display_name": "Python 3 (ipykernel)",
   "language": "python",
   "name": "python3"
  },
  "language_info": {
   "codemirror_mode": {
    "name": "ipython",
    "version": 3
   },
   "file_extension": ".py",
   "mimetype": "text/x-python",
   "name": "python",
   "nbconvert_exporter": "python",
   "pygments_lexer": "ipython3",
   "version": "3.9.7"
  }
 },
 "nbformat": 4,
 "nbformat_minor": 5
}
